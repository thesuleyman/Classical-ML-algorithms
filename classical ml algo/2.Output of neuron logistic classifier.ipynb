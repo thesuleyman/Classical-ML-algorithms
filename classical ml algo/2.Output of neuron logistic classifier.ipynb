{
 "cells": [
  {
   "cell_type": "code",
   "execution_count": 1,
   "metadata": {},
   "outputs": [],
   "source": [
    "import numpy as np"
   ]
  },
  {
   "cell_type": "code",
   "execution_count": 2,
   "metadata": {},
   "outputs": [],
   "source": [
    "N = 100\n",
    "D = 2"
   ]
  },
  {
   "cell_type": "code",
   "execution_count": 3,
   "metadata": {},
   "outputs": [],
   "source": [
    "X=np.random.randn(N,D)"
   ]
  },
  {
   "cell_type": "code",
   "execution_count": 4,
   "metadata": {},
   "outputs": [],
   "source": [
    "ones = np.array([[1]*N]).T\n",
    "Xb = np.concatenate((ones, X), axis=1)"
   ]
  },
  {
   "cell_type": "code",
   "execution_count": 5,
   "metadata": {},
   "outputs": [],
   "source": [
    "w = np.random.randn(D + 1)\n",
    "z = Xb.dot(w)"
   ]
  },
  {
   "cell_type": "code",
   "execution_count": 6,
   "metadata": {},
   "outputs": [
    {
     "name": "stdout",
     "output_type": "stream",
     "text": [
      "[0.87283899 0.81069475 0.99098494 0.992326   0.79129223 0.96767725\n",
      " 0.9186941  0.75252308 0.55117693 0.92782353 0.9180524  0.71994465\n",
      " 0.49008199 0.79986491 0.88384991 0.72335229 0.88133013 0.0350842\n",
      " 0.3215249  0.96502116 0.92518317 0.46475403 0.97816064 0.96198485\n",
      " 0.24743079 0.9976387  0.89272833 0.91311261 0.97788187 0.39332461\n",
      " 0.71481342 0.85841026 0.68595844 0.77344464 0.50841994 0.13862825\n",
      " 0.96496476 0.9473881  0.57827425 0.60886126 0.95601785 0.94660293\n",
      " 0.85184131 0.92941003 0.96575343 0.81127649 0.99675623 0.46697813\n",
      " 0.29180425 0.84645143 0.92867366 0.66923307 0.85223866 0.85699321\n",
      " 0.29456543 0.62744422 0.91952038 0.97113943 0.14987336 0.97545203\n",
      " 0.99254144 0.74989335 0.06668892 0.98812366 0.91801671 0.86996217\n",
      " 0.95218391 0.4565836  0.78266355 0.39905862 0.8224843  0.81552067\n",
      " 0.68879829 0.64701848 0.68762623 0.90926015 0.70119336 0.39034068\n",
      " 0.41035343 0.86919236 0.73143341 0.97480235 0.95571545 0.80041995\n",
      " 0.02173136 0.17867236 0.65779143 0.0570067  0.22989292 0.56477521\n",
      " 0.6506632  0.91342319 0.91971991 0.75760854 0.37739999 0.96268323\n",
      " 0.70315196 0.90013582 0.38106011 0.82417075]\n"
     ]
    }
   ],
   "source": [
    "def sigmoid (z):\n",
    "    return 1/(1+np.exp(-z))\n",
    "print (sigmoid(z))\n"
   ]
  },
  {
   "cell_type": "code",
   "execution_count": null,
   "metadata": {},
   "outputs": [],
   "source": []
  },
  {
   "cell_type": "code",
   "execution_count": null,
   "metadata": {},
   "outputs": [],
   "source": []
  }
 ],
 "metadata": {
  "kernelspec": {
   "display_name": "Python 3",
   "language": "python",
   "name": "python3"
  },
  "language_info": {
   "codemirror_mode": {
    "name": "ipython",
    "version": 3
   },
   "file_extension": ".py",
   "mimetype": "text/x-python",
   "name": "python",
   "nbconvert_exporter": "python",
   "pygments_lexer": "ipython3",
   "version": "3.7.3"
  }
 },
 "nbformat": 4,
 "nbformat_minor": 2
}
